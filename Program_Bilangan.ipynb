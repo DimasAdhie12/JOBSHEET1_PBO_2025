{
  "nbformat": 4,
  "nbformat_minor": 0,
  "metadata": {
    "colab": {
      "provenance": [],
      "authorship_tag": "ABX9TyPB1/dFWjAI7yDgQozW/tSR",
      "include_colab_link": true
    },
    "kernelspec": {
      "name": "python3",
      "display_name": "Python 3"
    },
    "language_info": {
      "name": "python"
    }
  },
  "cells": [
    {
      "cell_type": "markdown",
      "metadata": {
        "id": "view-in-github",
        "colab_type": "text"
      },
      "source": [
        "<a href=\"https://colab.research.google.com/github/DimasAdhie12/JOBSHEET1_PBO_2025/blob/main/Program_Bilangan.ipynb\" target=\"_parent\"><img src=\"https://colab.research.google.com/assets/colab-badge.svg\" alt=\"Open In Colab\"/></a>"
      ]
    },
    {
      "cell_type": "code",
      "execution_count": null,
      "metadata": {
        "id": "uRpvhTfaQZ4u"
      },
      "outputs": [],
      "source": [
        "# Program Mengecek Bilangan (Genap, Ganjil, dan Prima)\n",
        "print(\"===== Program Cek Bilangan =====\\n\")\n",
        "\n",
        "while True:\n",
        "    # Meminta input dari pengguna\n",
        "    try:\n",
        "        bilangan = int(input(\"Masukkan sebuah bilangan: \"))\n",
        "    except ValueError:\n",
        "        print(\"Harap masukkan bilangan bulat!\\n\")\n",
        "        continue\n",
        "\n",
        "    # Mengecek apakah bilangan prima\n",
        "    def cek_prima(n):\n",
        "        if n < 2:\n",
        "            return False\n",
        "        for i in range(2, int(n ** 0.5) + 1):\n",
        "            if n % i == 0:\n",
        "                return False\n",
        "        return True\n",
        "\n",
        "    # Menentukan jenis bilangan\n",
        "    if bilangan % 2 == 0:\n",
        "        jenis = \"Genap\"\n",
        "    else:\n",
        "        jenis = \"Ganjil\"\n",
        "\n",
        "    if cek_prima(bilangan):\n",
        "        jenis += \" dan merupakan bilangan Prima\"\n",
        "    else:\n",
        "        jenis += \" dan bukan bilangan Prima\"\n",
        "\n",
        "    # Menampilkan hasil\n",
        "    print(\"\\n===== Hasil Pengecekan =====\")\n",
        "    print(f\"Bilangan {bilangan} adalah {jenis}.\")\n",
        "\n",
        "    # Menampilkan bilangan prima dalam rentang 1 sampai bilangan yang dimasukkan\n",
        "    print(\"\\nBilangan prima dari 1 sampai\", bilangan, \"adalah: \", end=\"\")\n",
        "    prima_list = [str(i) for i in range(1, bilangan + 1) if cek_prima(i)]\n",
        "    print(\", \".join(prima_list))\n",
        "\n",
        "    # Menanyakan apakah ingin menginput ulang\n",
        "    ulang = input(\"\\nApakah Anda ingin mengecek bilangan lain? (Y/N): \").strip().upper()\n",
        "    if ulang != \"Y\":\n",
        "        print(\"Terima kasih telah menggunakan program ini!\")\n",
        "        break"
      ]
    }
  ]
}