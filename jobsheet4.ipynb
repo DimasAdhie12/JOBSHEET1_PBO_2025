{
  "nbformat": 4,
  "nbformat_minor": 0,
  "metadata": {
    "colab": {
      "provenance": [],
      "authorship_tag": "ABX9TyPqSJ+GIOW45u3Ep1ByEqyh",
      "include_colab_link": true
    },
    "kernelspec": {
      "name": "python3",
      "display_name": "Python 3"
    },
    "language_info": {
      "name": "python"
    }
  },
  "cells": [
    {
      "cell_type": "markdown",
      "metadata": {
        "id": "view-in-github",
        "colab_type": "text"
      },
      "source": [
        "<a href=\"https://colab.research.google.com/github/DimasAdhie12/JOBSHEET1_PBO_2025/blob/main/jobsheet4.ipynb\" target=\"_parent\"><img src=\"https://colab.research.google.com/assets/colab-badge.svg\" alt=\"Open In Colab\"/></a>"
      ]
    },
    {
      "cell_type": "markdown",
      "source": [
        "#Praktikum 01: Inheritance Dasar"
      ],
      "metadata": {
        "id": "4KKhvPCwbBp-"
      }
    },
    {
      "cell_type": "code",
      "execution_count": null,
      "metadata": {
        "id": "Y7DToiZFaf8x"
      },
      "outputs": [],
      "source": [
        "# kelas induk\n",
        "class Kendaraan:\n",
        "    def __init__(self, merk):\n",
        "        self.merk = merk\n",
        "    def mulai_mesin (self):\n",
        "        print(f\"Mesin Kendaraan {self.merk} dinyalakan.\")\n",
        "\n",
        "# Kelas Anak (Mewarisi Dari Kendaraan)\n",
        "class Mobil(Kendaraan):\n",
        "    def __init__(self, merk, warna):\n",
        "        # Memanggil _init_kelas induk (akan dibahas di Praktikum 2)\n",
        "        # Untuk sekarang, kita set merk secara manual\n",
        "        self.merk = merk # Mewarisi 'merk' tapi di-set ulang di sini\n",
        "        self.warna = warna # Atribut khusus mobil\n",
        "\n",
        "    def info_mobil(self):\n",
        "        print(f\"Ini adalah mobil {self.merk} berwarna {self.warna}.\")\n",
        "\n",
        "# --- Kode Utama ---\n",
        "if __name__ == \"__main__\":\n",
        "   mobil_tesla = Mobil(\"Tesla Model S\", \"Merah\")\n",
        "\n",
        "   # Memanggil metode dari kelas anak\n",
        "   mobil_tesla.info_mobil()\n",
        "\n",
        "   # Memanggil metode yang diwarisi dari kelas induk\n",
        "   mobil_tesla.mulai_mesin()\n",
        "\n",
        "   # Mengakses atribut yang diwarisi (dan di-set di anak)\n",
        "   print(f\"Merk mobil: {mobil_tesla.merk}\")"
      ]
    },
    {
      "cell_type": "markdown",
      "source": [
        "#Praktikum 02:Menggunakan super() dalam kontstruktor"
      ],
      "metadata": {
        "id": "3HU8rmeLkQyi"
      }
    },
    {
      "cell_type": "code",
      "source": [
        "# Kelas Induk\n",
        "class Person:\n",
        "    def __init__(self, nama, usia):\n",
        "        print(f\"Memanggil __init__ Person untuk '(nama)')\")\n",
        "        self.nama = nama\n",
        "        self.usia = usia\n",
        "\n",
        "    def perkenalkan_diri (self):\n",
        "           print(f\"Halo, nama saya {self.nama}, usia saya {self.usia} tahun.\")\n",
        "\n",
        "# Kelas Anak (mewarisi dari Person)\n",
        "class Student(Person):\n",
        "    def __init__(self, nama, usia, student_id, jurusan):\n",
        "        print(f\"(Memanggil __init__ Student untuk '(nama)')\")\n",
        "        # Memanggil __init__ dari kelas Person untuk inisialisasi nama dan usia\n",
        "        super().__init__(nama, usia)\n",
        "        # Menambahkan atribut khusus Student\n",
        "        self.student_id = student_id\n",
        "        self.jurusan = jurusan\n",
        "        print(f\"(Inisialisasi atribut Student selesai untuk '(nama)')\")\n",
        "\n",
        "    def info_akademik(self):\n",
        "        print(f\"ID Mahasiswa: {self.student_id}\")\n",
        "        print(f\"Jurusan: {self.jurusan}\")\n",
        "\n",
        "    # Override perkenalkan_diri untuk menambahkan info student\n",
        "    def perkenalkan_diri(self):\n",
        "        super().perkenalkan_diri() # Panggil versi Person\n",
        "        print(f\"Saya adalah mahasiswa dengan ID {self.student_id}, jurusan {self.jurusan}.\")\n",
        "\n",
        "# --- Kode Utama ---\n",
        "if __name__ == \"__main__\":\n",
        "    # Membuat objek Person\n",
        "    dosen = Person(\"Pak Anton\", 45)\n",
        "    print(\"-\" * 20)\n",
        "    dosen.perkenalkan_diri()\n",
        "    print(\"\\n\" + \"=\" * 30 + \"\\n\")\n",
        "\n",
        "    # Membuat Objek Student\n",
        "    mahasiswa = Student(\"Dewi\", 20, \"MHS001\", \"Teknik Komputer\")\n",
        "    print(\"-\" * 20)\n",
        "    mahasiswa.perkenalkan_diri() # Panggil versi override di Student\n",
        "    print(\"-\" * 20)\n",
        "    mahasiswa.info_akademik() #panggil metode khusus Student\n",
        "\n",
        "    # Cek atribut yang diwarisi\n",
        "    print(f\"\\nUsia mahasiswa {mahasiswa.nama}: {mahasiswa.usia}\")\n",
        "    # usia diwarisi dari Person"
      ],
      "metadata": {
        "id": "y4vRJzvdkdWU",
        "outputId": "59b2b7c6-9254-404b-a67d-42bbed1f4c61",
        "colab": {
          "base_uri": "https://localhost:8080/"
        }
      },
      "execution_count": 16,
      "outputs": [
        {
          "output_type": "stream",
          "name": "stdout",
          "text": [
            "Memanggil __init__ Person untuk '(nama)')\n",
            "--------------------\n",
            "Halo, nama saya Pak Anton, usia saya 45 tahun.\n",
            "\n",
            "==============================\n",
            "\n",
            "(Memanggil __init__ Student untuk '(nama)')\n",
            "Memanggil __init__ Person untuk '(nama)')\n",
            "(Inisialisasi atribut Student selesai untuk '(nama)')\n",
            "--------------------\n",
            "Halo, nama saya Dewi, usia saya 20 tahun.\n",
            "Saya adalah mahasiswa dengan ID MHS001, jurusan Teknik Komputer.\n",
            "--------------------\n",
            "ID Mahasiswa: MHS001\n",
            "Jurusan: Teknik Komputer\n",
            "\n",
            "Usia mahasiswa Dewi: 20\n"
          ]
        }
      ]
    }
  ]
}