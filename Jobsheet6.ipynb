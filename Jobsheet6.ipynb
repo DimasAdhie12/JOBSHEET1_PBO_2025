{
  "nbformat": 4,
  "nbformat_minor": 0,
  "metadata": {
    "colab": {
      "provenance": [],
      "authorship_tag": "ABX9TyMzosxnQhS+MrzTJk0RVn8r",
      "include_colab_link": true
    },
    "kernelspec": {
      "name": "python3",
      "display_name": "Python 3"
    },
    "language_info": {
      "name": "python"
    }
  },
  "cells": [
    {
      "cell_type": "markdown",
      "metadata": {
        "id": "view-in-github",
        "colab_type": "text"
      },
      "source": [
        "<a href=\"https://colab.research.google.com/github/DimasAdhie12/JOBSHEET1_PBO_2025/blob/main/Jobsheet6.ipynb\" target=\"_parent\"><img src=\"https://colab.research.google.com/assets/colab-badge.svg\" alt=\"Open In Colab\"/></a>"
      ]
    },
    {
      "cell_type": "markdown",
      "source": [
        "##Praktikum 01: Mendefinisikan Kelas Abstrak Sederhana"
      ],
      "metadata": {
        "id": "RMTaSMlvzFWi"
      }
    },
    {
      "cell_type": "code",
      "execution_count": 7,
      "metadata": {
        "id": "lHXfeqKTyUiW",
        "outputId": "ab7b19f8-cc30-4134-c06c-37755304c01c",
        "colab": {
          "base_uri": "https://localhost:8080/"
        }
      },
      "outputs": [
        {
          "output_type": "stream",
          "name": "stdout",
          "text": [
            "Definisi Kelas Abstrak 'KendaraanAbstrak' selesai.\n",
            "\n",
            "Contoh definisi kelas anak 'Mobil' selesai.\n",
            "Iniasialisasi KendaraanAbstrak dengan merk: Toyota\n",
            "Mesin mobil Toyota dinyalakan.\n",
            "Merk kendaraan ini adalah Toyota.\n",
            "Mesin mobil Toyota dimatikan.\n"
          ]
        }
      ],
      "source": [
        "# Impor komponen yang diperlukan dari modul abc\n",
        "from abc import ABC, abstractmethod\n",
        "\n",
        "# 1. Definisikan kelas Abstrak\n",
        "#    Kelas ini mewarisi dari ABC untuk menandakan bahwa ia adalah\n",
        "#    Abstract Base Class\n",
        "class KendaraanAbstrak(ABC):\n",
        "    def __init__(self, merk):\n",
        "          self.merk = merk\n",
        "          print(f\"Iniasialisasi KendaraanAbstrak dengan merk: {self.merk}\")\n",
        "\n",
        "      # Metode konkret (tidak abstrak)\n",
        "      # Metode ini sudah memiliki implementasi dan bisa di warisi langsung\n",
        "    def info_merk(self):\n",
        "        print(f\"Merk kendaraan ini adalah {self.merk}.\")\n",
        "\n",
        "      # 2. Definisikan Metode Abstrak\n",
        "      #    Dekorator @abstractmethod menandakan metode ini WAJIB\n",
        "      #    diimplementasikan (di-override) oleh subclass konkret.\n",
        "    @abstractmethod\n",
        "    def start_mesin(self):\n",
        "        # Kode di dalam metode ini adalah implementasinya\n",
        "        print(f\"Mesin mobil {self.merk} dinyalakan.\") # Mencetak status 'dinyalakan'\n",
        "\n",
        "    # kelas mobil ini juga akan menjadi abstrak.\n",
        "    def stop_mesin(self):\n",
        "        # Kode di dalam metode ini adalah implementasinya\n",
        "        print(f\"Mesin mobil {self.merk} dimatikan.\") # Mencetak status 'dimatikan'\n",
        "\n",
        "# --- Kode Utama (Hanya definisi, belum ada instansiasi kelas abstrak) ---\n",
        "if __name__ == \"__main__\":\n",
        "    print(\"Definisi Kelas Abstrak 'KendaraanAbstrak' selesai.\")\n",
        "\n",
        "    # Contoh definisi kelas anak (konkret)\n",
        "    # Kelas ini mewarisi dari KendaraanAbstrak\n",
        "    class Mobil(KendaraanAbstrak):\n",
        "        # Implementasi metode abstrak start_mesin\n",
        "        def start_mesin(self):\n",
        "            # Kode di dalam metode ini adalah implementasinya\n",
        "            print(f\"Mesin mobil {self.merk} dinyalakan.\") # Mencetak satus 'dinyalakan'\n",
        "\n",
        "        # Implementasi metode abstrak stop_mesin\n",
        "        # Jika salah satu metode abstrak tidak diimplementasi,\n",
        "        # kelas Mobilm ini juga akan menjadi abstrak\n",
        "        def stop_mesin(self):\n",
        "            # Kode di dalam metode ini adalah implementasiny\n",
        "            print(f\"Mesin mobil {self.merk} dimatikan.\") # Mencetak satus 'dimatikan'\n",
        "\n",
        "print(\"\\nContoh definisi kelas anak 'Mobil' selesai.\")\n",
        "\n",
        "# Membuat objek dari kelas anak (konkret) diperbolehkan\n",
        "mobil_contoh = Mobil(\"Toyota\")\n",
        "\n",
        "# Memanggil metode yang diimplementasikan di kelas anak\n",
        "mobil_contoh.start_mesin()\n",
        "\n",
        "# Memanggil metode konkret ytang diwarisi dari kelas abstrak\n",
        "mobil_contoh.info_merk()\n",
        "\n",
        "# Memanggil metode lainyang diimplementasikan di kelas anak\n",
        "mobil_contoh.stop_mesin()"
      ]
    }
  ]
}