{
  "nbformat": 4,
  "nbformat_minor": 0,
  "metadata": {
    "colab": {
      "provenance": [],
      "authorship_tag": "ABX9TyO6n2r3FZT2EjDQvPShj9YE",
      "include_colab_link": true
    },
    "kernelspec": {
      "name": "python3",
      "display_name": "Python 3"
    },
    "language_info": {
      "name": "python"
    }
  },
  "cells": [
    {
      "cell_type": "markdown",
      "metadata": {
        "id": "view-in-github",
        "colab_type": "text"
      },
      "source": [
        "<a href=\"https://colab.research.google.com/github/DimasAdhie12/JOBSHEET1_PBO_2025/blob/main/Jobsheet6.ipynb\" target=\"_parent\"><img src=\"https://colab.research.google.com/assets/colab-badge.svg\" alt=\"Open In Colab\"/></a>"
      ]
    },
    {
      "cell_type": "markdown",
      "source": [
        "##Praktikum 01: Mendefinisikan Kelas Abstrak Sederhana"
      ],
      "metadata": {
        "id": "RMTaSMlvzFWi"
      }
    },
    {
      "cell_type": "code",
      "execution_count": null,
      "metadata": {
        "id": "lHXfeqKTyUiW"
      },
      "outputs": [],
      "source": [
        "# Impor komponen yang diperlukan dari modul abc\n",
        "from abc import ABC, abstractmethod\n",
        "\n",
        "# 1. Definisikan kelas Abstrak\n",
        "#    Kelas ini mewarisi dari ABC untuk menandakan bahwa ia adalah\n",
        "#    Abstract Base Class\n",
        "class KendaraanAbstrak(ABC):\n",
        "    def __init__(self, merk):\n",
        "          self.merk = merk\n",
        "          print(f\"Iniasialisasi KendaraanAbstrak dengan merk: {self.merk}\")\n",
        "\n",
        "      # Metode konkret (tidak abstrak)\n",
        "      # Metode ini sudah memiliki implementasi dan bisa di warisi langsung\n",
        "    def info_merk(self):\n",
        "        print(f\"Merk kendaraan ini adalah {self.merk}.\")\n",
        "\n",
        "      # 2. Definisikan Metode Abstrak\n",
        "      #    Dekorator @abstractmethod menandakan metode ini WAJIB\n",
        "      #    diimplementasikan (di-override) oleh subclass konkret.\n",
        "    @abstractmethod\n",
        "    def start_mesin(self):\n",
        "        # Kode di dalam metode ini adalah implementasinya\n",
        "        print(f\"Mesin mobil {self.merk} dinyalakan.\") # Mencetak status 'dinyalakan'\n",
        "\n",
        "    # kelas mobil ini juga akan menjadi abstrak.\n",
        "    def stop_mesin(self):\n",
        "        # Kode di dalam metode ini adalah implementasinya\n",
        "        print(f\"Mesin mobil {self.merk} dimatikan.\") # Mencetak status 'dimatikan'\n",
        "\n",
        "# --- Kode Utama (Hanya definisi, belum ada instansiasi kelas abstrak) ---\n",
        "if __name__ == \"__main__\":\n",
        "    print(\"Definisi Kelas Abstrak 'KendaraanAbstrak' selesai.\")\n",
        "\n",
        "    # Contoh definisi kelas anak (konkret)\n",
        "    # Kelas ini mewarisi dari KendaraanAbstrak\n",
        "    class Mobil(KendaraanAbstrak):\n",
        "        # Implementasi metode abstrak start_mesin\n",
        "        def start_mesin(self):\n",
        "            # Kode di dalam metode ini adalah implementasinya\n",
        "            print(f\"Mesin mobil {self.merk} dinyalakan.\") # Mencetak satus 'dinyalakan'\n",
        "\n",
        "        # Implementasi metode abstrak stop_mesin\n",
        "        # Jika salah satu metode abstrak tidak diimplementasi,\n",
        "        # kelas Mobilm ini juga akan menjadi abstrak\n",
        "        def stop_mesin(self):\n",
        "            # Kode di dalam metode ini adalah implementasiny\n",
        "            print(f\"Mesin mobil {self.merk} dimatikan.\") # Mencetak satus 'dimatikan'\n",
        "\n",
        "print(\"\\nContoh definisi kelas anak 'Mobil' selesai.\")\n",
        "\n",
        "# Membuat objek dari kelas anak (konkret) diperbolehkan\n",
        "mobil_contoh = Mobil(\"Toyota\")\n",
        "\n",
        "# Memanggil metode yang diimplementasikan di kelas anak\n",
        "mobil_contoh.start_mesin()\n",
        "\n",
        "# Memanggil metode konkret ytang diwarisi dari kelas abstrak\n",
        "mobil_contoh.info_merk()\n",
        "\n",
        "# Memanggil metode lainyang diimplementasikan di kelas anak\n",
        "mobil_contoh.stop_mesin()"
      ]
    },
    {
      "cell_type": "markdown",
      "source": [
        "##Praktikum 02: Mencoba Instansiasi Kelas Abstrak"
      ],
      "metadata": {
        "id": "Jx3cntYx8mXA"
      }
    },
    {
      "cell_type": "code",
      "source": [
        "from abc import ABC, abstractmethod\n",
        "\n",
        "# Definisikan kelas abstrak\n",
        "class MediaAbstrak(ABC):\n",
        "    def __init__(self, judul):\n",
        "        self.judul = judul\n",
        "        print(f\"Inisialisasi MedisAbstrak dengan judul: {self.judul}\")\n",
        "\n",
        "    # Pindahkan metode abstrak ke level kelas\n",
        "    @abstractmethod\n",
        "    def play(self):\n",
        "        \"\"\"Metode abstrak untuk memulai pemutaran.\"\"\"\n",
        "        pass\n",
        "\n",
        "    @abstractmethod\n",
        "    def stop(self):\n",
        "        \"\"\"Metode abstrak untuk menghentikan pemutaran.\"\"\"\n",
        "        pass\n",
        "\n",
        "# --- Kode Utama ---\n",
        "if __name__ == \"__main__\":\n",
        "    print(\"Mencoba membuat objek dari kelas abstrak MediaAbstrak...\")\n",
        "\n",
        "    # Blok try-except untuk menangkap eror yang diharapkan\n",
        "    try:\n",
        "        # Baris ini akan menyebabkan TypeError karena MediaAbstrak\n",
        "        # memiliki metode abstrak (play dan stop) yang belum diimplementasi.\n",
        "        media = MediaAbstrak(\"KontenAbstrak\")\n",
        "\n",
        "        # Kode di bawah ini tidak akan pernah dijalankan jika error\n",
        "        print(\"Objek berhasil dibuat (SEHARUSNYA TIDAK TERJADI).\")\n",
        "        media.play()\n",
        "\n",
        "    except TypeError as e:\n",
        "        # Menangkap dan menampilkan error TypeError\n",
        "        print(f\"\\nGAGAL membuat objek!\")\n",
        "        print(f\"Error yang muncul (sesuai harapan): {e}\")\n",
        "        print(f\"\\nIni membuktikan bahwa kelas abstrak tidak bisa diinstansiasi\")\n",
        "        print(\"jika masih memiliki metode abstrak yang belum diimplementasikan.\")"
      ],
      "metadata": {
        "id": "kUSBhtux8t3d"
      },
      "execution_count": null,
      "outputs": []
    }
  ]
}