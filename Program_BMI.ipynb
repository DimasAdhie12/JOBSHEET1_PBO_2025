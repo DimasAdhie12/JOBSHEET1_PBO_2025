{
  "nbformat": 4,
  "nbformat_minor": 0,
  "metadata": {
    "colab": {
      "provenance": [],
      "authorship_tag": "ABX9TyNRIgSEtZDsKs26w7zwfYIK",
      "include_colab_link": true
    },
    "kernelspec": {
      "name": "python3",
      "display_name": "Python 3"
    },
    "language_info": {
      "name": "python"
    }
  },
  "cells": [
    {
      "cell_type": "markdown",
      "metadata": {
        "id": "view-in-github",
        "colab_type": "text"
      },
      "source": [
        "<a href=\"https://colab.research.google.com/github/DimasAdhie12/JOBSHEET1_PBO_2025/blob/main/Program_BMI.ipynb\" target=\"_parent\"><img src=\"https://colab.research.google.com/assets/colab-badge.svg\" alt=\"Open In Colab\"/></a>"
      ]
    },
    {
      "cell_type": "code",
      "execution_count": null,
      "metadata": {
        "id": "qZ0l27Uu48-9"
      },
      "outputs": [],
      "source": [
        "# Program Body Mass Index (BMI)\n",
        "print(\"===== Program Body Mass Index =====\\n\")\n",
        "\n",
        "while True:\n",
        "    # Meminta input dari pengguna\n",
        "    berat = float(input(\"Masukkan berat badan (kg): \"))\n",
        "    tinggi = float(input(\"Masukkan tinggi badan (cm): \"))\n",
        "\n",
        "    # Konversi tinggi dari cm ke meter\n",
        "    tinggi_m = tinggi / 100\n",
        "\n",
        "    # Menghitung BMI\n",
        "    bmi = berat / (tinggi_m ** 2)\n",
        "\n",
        "    # Menentukan kategori BMI\n",
        "    if bmi < 18.5:\n",
        "        kategori = \"Underweight\"\n",
        "    elif 18.5 <= bmi < 24.9:\n",
        "        kategori = \"Normal\"\n",
        "    elif 25 <= bmi < 29.9:\n",
        "        kategori = \"Overweight\"\n",
        "    else:\n",
        "        kategori = \"Obesitas\"\n",
        "\n",
        "    # Menampilkan hasil\n",
        "    print(\"\\n===== Hasil Perhitungan BMI =====\")\n",
        "    print(f\"Nilai BMI Anda: {bmi:.2f}\")\n",
        "    print(f\"Kategori BMI: {kategori}\")\n",
        "\n",
        "    # Menanyakan apakah ingin menginput ulang\n",
        "    ulang = input(\"\\nApakah Anda ingin menghitung BMI lagi? (Y/N): \").strip().upper()\n",
        "    if ulang != \"Y\":\n",
        "        print(\"Terima kasih telah menggunakan Program Body Mass Index!\")\n",
        "        break"
      ]
    }
  ]
}